{
  "nbformat": 4,
  "nbformat_minor": 0,
  "metadata": {
    "colab": {
      "provenance": [],
      "mount_file_id": "1v6f5eE6LGgxfh7f53Kz1PeF7VTkr8dZO",
      "authorship_tag": "ABX9TyNbev0jPW3XA2cxBi0OF37p",
      "include_colab_link": true
    },
    "kernelspec": {
      "name": "python3",
      "display_name": "Python 3"
    },
    "language_info": {
      "name": "python"
    }
  },
  "cells": [
    {
      "cell_type": "markdown",
      "metadata": {
        "id": "view-in-github",
        "colab_type": "text"
      },
      "source": [
        "<a href=\"https://colab.research.google.com/github/ShawnFromChineseTaipei/class_test/blob/main/Transportation_ANN.ipynb\" target=\"_parent\"><img src=\"https://colab.research.google.com/assets/colab-badge.svg\" alt=\"Open In Colab\"/></a>"
      ]
    },
    {
      "cell_type": "code",
      "execution_count": 1,
      "metadata": {
        "id": "PU01lF8uLfAh"
      },
      "outputs": [],
      "source": [
        "import pandas as pd\n",
        "pd.options.mode.chained_assignment = None\n",
        "pd.options.display.max_columns = 999\n",
        "import numpy as np\n",
        "import matplotlib.pyplot as plt\n",
        "import seaborn as sns"
      ]
    },
    {
      "cell_type": "code",
      "source": [
        "df = pd.read_csv('/content/drive/MyDrive/Transportation.csv')"
      ],
      "metadata": {
        "id": "6kiURA-MMkHv"
      },
      "execution_count": 2,
      "outputs": []
    },
    {
      "cell_type": "code",
      "source": [
        "df.dropna(inplace = True)\n",
        "print(df.shape)"
      ],
      "metadata": {
        "colab": {
          "base_uri": "https://localhost:8080/"
        },
        "id": "TOjHDsbiMyzK",
        "outputId": "a8c7a4a7-ef18-4d45-bd69-d67f8ce5abfb"
      },
      "execution_count": 3,
      "outputs": [
        {
          "output_type": "stream",
          "name": "stdout",
          "text": [
            "(1324311, 44)\n"
          ]
        }
      ]
    },
    {
      "cell_type": "code",
      "source": [
        "df.info()"
      ],
      "metadata": {
        "colab": {
          "base_uri": "https://localhost:8080/"
        },
        "id": "CKV7GVNRNLoA",
        "outputId": "9f52630f-478b-4c63-bade-209f42c09e65"
      },
      "execution_count": 6,
      "outputs": [
        {
          "output_type": "stream",
          "name": "stdout",
          "text": [
            "<class 'pandas.core.frame.DataFrame'>\n",
            "Int64Index: 1324311 entries, 0 to 1707204\n",
            "Data columns (total 43 columns):\n",
            " #   Column                 Non-Null Count    Dtype  \n",
            "---  ------                 --------------    -----  \n",
            " 0   Unnamed: 0             1324311 non-null  int64  \n",
            " 1   Start_Time             1324311 non-null  object \n",
            " 2   End_Time               1324311 non-null  object \n",
            " 3   Start_Lat              1324311 non-null  float64\n",
            " 4   Start_Lng              1324311 non-null  float64\n",
            " 5   End_Lat                1324311 non-null  float64\n",
            " 6   End_Lng                1324311 non-null  float64\n",
            " 7   Distance(mi)           1324311 non-null  float64\n",
            " 8   City                   1324311 non-null  object \n",
            " 9   County                 1324311 non-null  object \n",
            " 10  State                  1324311 non-null  object \n",
            " 11  Zipcode                1324311 non-null  object \n",
            " 12  Country                1324311 non-null  object \n",
            " 13  Timezone               1324311 non-null  object \n",
            " 14  Airport_Code           1324311 non-null  object \n",
            " 15  Weather_Timestamp      1324311 non-null  object \n",
            " 16  Temperature(F)         1324311 non-null  float64\n",
            " 17  Wind_Chill(F)          1324311 non-null  float64\n",
            " 18  Humidity(%)            1324311 non-null  float64\n",
            " 19  Pressure(in)           1324311 non-null  float64\n",
            " 20  Visibility(mi)         1324311 non-null  float64\n",
            " 21  Wind_Direction         1324311 non-null  object \n",
            " 22  Wind_Speed(mph)        1324311 non-null  float64\n",
            " 23  Precipitation(in)      1324311 non-null  float64\n",
            " 24  Weather_Condition      1324311 non-null  object \n",
            " 25  Amenity                1324311 non-null  bool   \n",
            " 26  Bump                   1324311 non-null  bool   \n",
            " 27  Crossing               1324311 non-null  bool   \n",
            " 28  Give_Way               1324311 non-null  bool   \n",
            " 29  Junction               1324311 non-null  bool   \n",
            " 30  No_Exit                1324311 non-null  bool   \n",
            " 31  Railway                1324311 non-null  bool   \n",
            " 32  Roundabout             1324311 non-null  bool   \n",
            " 33  Station                1324311 non-null  bool   \n",
            " 34  Stop                   1324311 non-null  bool   \n",
            " 35  Traffic_Calming        1324311 non-null  bool   \n",
            " 36  Traffic_Signal         1324311 non-null  bool   \n",
            " 37  Turning_Loop           1324311 non-null  bool   \n",
            " 38  Sunrise_Sunset         1324311 non-null  object \n",
            " 39  Civil_Twilight         1324311 non-null  object \n",
            " 40  Nautical_Twilight      1324311 non-null  object \n",
            " 41  Astronomical_Twilight  1324311 non-null  object \n",
            " 42  Severity               1324311 non-null  int64  \n",
            "dtypes: bool(13), float64(12), int64(2), object(16)\n",
            "memory usage: 329.6+ MB\n"
          ]
        }
      ]
    },
    {
      "cell_type": "code",
      "source": [
        "#首先將類別型資料以及布林值分類，便於分析\n",
        "categorical_columns = df.select_dtypes(include=['object','bool']).columns\n",
        "categorical_columns"
      ],
      "metadata": {
        "colab": {
          "base_uri": "https://localhost:8080/"
        },
        "id": "WSiFrDT2NAJM",
        "outputId": "6812df9e-4cc4-4266-c883-b9ed16024c08"
      },
      "execution_count": 7,
      "outputs": [
        {
          "output_type": "execute_result",
          "data": {
            "text/plain": [
              "Index(['Start_Time', 'End_Time', 'City', 'County', 'State', 'Zipcode',\n",
              "       'Country', 'Timezone', 'Airport_Code', 'Weather_Timestamp',\n",
              "       'Wind_Direction', 'Weather_Condition', 'Amenity', 'Bump', 'Crossing',\n",
              "       'Give_Way', 'Junction', 'No_Exit', 'Railway', 'Roundabout', 'Station',\n",
              "       'Stop', 'Traffic_Calming', 'Traffic_Signal', 'Turning_Loop',\n",
              "       'Sunrise_Sunset', 'Civil_Twilight', 'Nautical_Twilight',\n",
              "       'Astronomical_Twilight'],\n",
              "      dtype='object')"
            ]
          },
          "metadata": {},
          "execution_count": 7
        }
      ]
    },
    {
      "cell_type": "code",
      "source": [
        "#在針對這些非數值型資料做一次LabelEncoder\n",
        "from sklearn import preprocessing\n",
        "\n",
        "for i in categorical_columns:\n",
        "    en = preprocessing.LabelEncoder()\n",
        "    df[i]= en.fit_transform(df[i])"
      ],
      "metadata": {
        "id": "e2_KvnEFOBUp"
      },
      "execution_count": 8,
      "outputs": []
    },
    {
      "cell_type": "code",
      "source": [
        "train_y = df['Severity'].values\n",
        "x_cols = [col for col in df.columns if col not in ['Severity'] if df[col].dtype=='float64'or df[col].dtype=='int64']\n",
        "train_col= df[x_cols]\n",
        "\n",
        "fearture_name = train_col.columns.values \n",
        "\n",
        "from sklearn import ensemble \n",
        "\n",
        "model = ensemble.ExtraTreesRegressor(n_estimators=25, max_depth=30, max_features=0.3, n_jobs=-1, random_state=0)\n",
        "model.fit(train_col,train_y)\n",
        "\n",
        "\n",
        "importance = model.feature_importances_\n",
        "std = np.std([tree.feature_importances_ for tree in model.estimators_],axis=0)\n",
        "indices = np.argsort(importance)[::-1][:20]\n",
        "\n",
        "plt.figure(figsize=(20,7))\n",
        "plt.title(\"Feature importances\")\n",
        "plt.bar(range(len(indices)), importance[indices], color=\"r\", yerr=std[indices], align=\"center\")\n",
        "plt.xticks(range(len(indices)), fearture_name[indices], rotation='vertical')\n",
        "plt.xlim([-1, len(indices)])\n",
        "plt.show()"
      ],
      "metadata": {
        "colab": {
          "base_uri": "https://localhost:8080/",
          "height": 537
        },
        "id": "dy0Zu20ROLIx",
        "outputId": "fa22702b-58a9-44a9-a738-5c207414c9a8"
      },
      "execution_count": 9,
      "outputs": [
        {
          "output_type": "display_data",
          "data": {
            "text/plain": [
              "<Figure size 1440x504 with 1 Axes>"
            ],
            "image/png": "[encoded data removed]"
          },
          "metadata": {
            "needs_background": "light"
          }
        }
      ]
    },
    {
      "cell_type": "code",
      "source": [
        "y = df['Severity'].copy()\n",
        "X = df.drop('Severity', axis=1).copy()"
      ],
      "metadata": {
        "id": "lO7htIZ3PgfI"
      },
      "execution_count": 10,
      "outputs": []
    },
    {
      "cell_type": "code",
      "source": [
        "y.unique()\n",
        "y = y-1"
      ],
      "metadata": {
        "id": "Ryi_XAnYPkhV"
      },
      "execution_count": 11,
      "outputs": []
    },
    {
      "cell_type": "code",
      "source": [
        "from sklearn.preprocessing import StandardScaler\n",
        "from sklearn.model_selection import train_test_split\n",
        "\n",
        "scaler = StandardScaler()\n",
        "X = scaler.fit_transform(X)\n",
        "\n",
        "X_train, X_test, y_train, y_test = train_test_split(X, y, train_size=0.8, random_state=100)"
      ],
      "metadata": {
        "id": "iXtxM57LPwW9"
      },
      "execution_count": 12,
      "outputs": []
    },
    {
      "cell_type": "code",
      "source": [
        "import tensorflow as tf\n",
        "import keras\n",
        "from keras.models import Sequential\n",
        "from keras.layers import Dense, Dropout"
      ],
      "metadata": {
        "id": "CZ2T9XcDP5FW"
      },
      "execution_count": 13,
      "outputs": []
    },
    {
      "cell_type": "code",
      "source": [
        "inputs = tf.keras.Input(shape=(X.shape[1],))\n",
        "x = tf.keras.layers.Dense(64, activation='relu')(inputs)\n",
        "x = tf.keras.layers.Dense(64, activation='relu')(x)\n",
        "x = tf.keras.layers.Dense(64, activation='relu')(x)\n",
        "outputs = tf.keras.layers.Dense(4, activation='softmax')(x)\n",
        "\n",
        "model = tf.keras.Model(inputs, outputs)\n",
        "\n",
        "model.compile(\n",
        "    optimizer='adam',\n",
        "    loss='sparse_categorical_crossentropy',\n",
        "    metrics=['accuracy']\n",
        ")\n",
        "\n",
        "batch_size = 40\n",
        "epochs = 100\n",
        "\n",
        "history = model.fit(\n",
        "    X_train,\n",
        "    y_train,\n",
        "    validation_split=0.2,\n",
        "    batch_size=batch_size,\n",
        "    epochs=epochs,\n",
        "    callbacks=[\n",
        "        tf.keras.callbacks.ReduceLROnPlateau(),\n",
        "        tf.keras.callbacks.EarlyStopping(\n",
        "            monitor='val_loss',\n",
        "            patience=3,\n",
        "            restore_best_weights=True\n",
        "        )\n",
        "    ]\n",
        ")"
      ],
      "metadata": {
        "colab": {
          "base_uri": "https://localhost:8080/"
        },
        "id": "UOwMk2MmP9ff",
        "outputId": "97b0fd86-b0af-482f-bee3-e3dce904c135"
      },
      "execution_count": 14,
      "outputs": [
        {
          "output_type": "stream",
          "name": "stdout",
          "text": [
            "Epoch 1/100\n",
            "21189/21189 [==============================] - 66s 3ms/step - loss: 0.1909 - accuracy: 0.9401 - val_loss: 0.1763 - val_accuracy: 0.9422 - lr: 0.0010\n",
            "Epoch 2/100\n",
            "21189/21189 [==============================] - 62s 3ms/step - loss: 0.1748 - accuracy: 0.9427 - val_loss: 0.1730 - val_accuracy: 0.9433 - lr: 0.0010\n",
            "Epoch 3/100\n",
            "21189/21189 [==============================] - 52s 2ms/step - loss: 0.1715 - accuracy: 0.9433 - val_loss: 0.1722 - val_accuracy: 0.9427 - lr: 0.0010\n",
            "Epoch 4/100\n",
            "21189/21189 [==============================] - 58s 3ms/step - loss: 0.1692 - accuracy: 0.9439 - val_loss: 0.1686 - val_accuracy: 0.9437 - lr: 0.0010\n",
            "Epoch 5/100\n",
            "21189/21189 [==============================] - 56s 3ms/step - loss: 0.1678 - accuracy: 0.9442 - val_loss: 0.1675 - val_accuracy: 0.9439 - lr: 0.0010\n",
            "Epoch 6/100\n",
            "21189/21189 [==============================] - 60s 3ms/step - loss: 0.1666 - accuracy: 0.9445 - val_loss: 0.1665 - val_accuracy: 0.9442 - lr: 0.0010\n",
            "Epoch 7/100\n",
            "21189/21189 [==============================] - 58s 3ms/step - loss: 0.1658 - accuracy: 0.9448 - val_loss: 0.1673 - val_accuracy: 0.9440 - lr: 0.0010\n",
            "Epoch 8/100\n",
            "21189/21189 [==============================] - 54s 3ms/step - loss: 0.1657 - accuracy: 0.9449 - val_loss: 0.1649 - val_accuracy: 0.9445 - lr: 0.0010\n",
            "Epoch 9/100\n",
            "21189/21189 [==============================] - 54s 3ms/step - loss: 0.1642 - accuracy: 0.9449 - val_loss: 0.1653 - val_accuracy: 0.9451 - lr: 0.0010\n",
            "Epoch 10/100\n",
            "21189/21189 [==============================] - 55s 3ms/step - loss: 0.1639 - accuracy: 0.9452 - val_loss: 0.1673 - val_accuracy: 0.9444 - lr: 0.0010\n",
            "Epoch 11/100\n",
            "21189/21189 [==============================] - 58s 3ms/step - loss: 0.1723 - accuracy: 0.9453 - val_loss: 0.1682 - val_accuracy: 0.9448 - lr: 0.0010\n"
          ]
        }
      ]
    },
    {
      "cell_type": "code",
      "source": [
        "print(\"Test Accuracy:\", model.evaluate(X_test, y_test, verbose=0)[1])"
      ],
      "metadata": {
        "colab": {
          "base_uri": "https://localhost:8080/"
        },
        "id": "3P9hkBBmSvRQ",
        "outputId": "f41f8bb3-9098-4dcf-eea6-da59a750edbe"
      },
      "execution_count": 15,
      "outputs": [
        {
          "output_type": "stream",
          "name": "stdout",
          "text": [
            "Test Accuracy: 0.9450017809867859\n"
          ]
        }
      ]
    }
  ]
}